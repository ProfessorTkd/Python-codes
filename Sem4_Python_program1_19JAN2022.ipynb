{
  "nbformat": 4,
  "nbformat_minor": 0,
  "metadata": {
    "colab": {
      "name": "Sem4-Python-program1-19JAN2022.ipynb",
      "provenance": []
    },
    "kernelspec": {
      "name": "python3",
      "display_name": "Python 3"
    },
    "language_info": {
      "name": "python"
    }
  },
  "cells": [
    {
      "cell_type": "code",
      "execution_count": null,
      "metadata": {
        "colab": {
          "base_uri": "https://localhost:8080/"
        },
        "id": "mYUT_PlmjSO4",
        "outputId": "c65262f8-c74b-45bc-deaa-9785ca7fa13e"
      },
      "outputs": [
        {
          "output_type": "stream",
          "name": "stdout",
          "text": [
            "Hello EveryOne this my first Python program\n"
          ]
        }
      ],
      "source": [
        "print(\"Hello EveryOne this my first Python program\") \n",
        "#print statement used to print the statement\n",
        "#we use (#) for commenting"
      ]
    },
    {
      "cell_type": "code",
      "source": [
        "name=\"Tapish Rawat\" #we used name variable to store the name!\n",
        "print(\"Your Name is :\" + name) #we used the + to concatenate the name variable with our print statement"
      ],
      "metadata": {
        "colab": {
          "base_uri": "https://localhost:8080/"
        },
        "id": "SMv4ekf8jqoQ",
        "outputId": "6a0d9aaf-7ab7-4c7b-8227-f31493bf2de0"
      },
      "execution_count": null,
      "outputs": [
        {
          "output_type": "stream",
          "name": "stdout",
          "text": [
            "Your Name is :Tapish Rawat\n"
          ]
        }
      ]
    },
    {
      "cell_type": "code",
      "source": [
        "age=20\n",
        "print(age)"
      ],
      "metadata": {
        "colab": {
          "base_uri": "https://localhost:8080/"
        },
        "id": "vs3yoIyfjq1e",
        "outputId": "50f01937-5b3b-4d2c-f50e-0f26cfea568c"
      },
      "execution_count": null,
      "outputs": [
        {
          "output_type": "stream",
          "name": "stdout",
          "text": [
            "20\n"
          ]
        }
      ]
    },
    {
      "cell_type": "code",
      "source": [
        "print(type(name)) #we used type to get the type of name and age variable\n",
        "print(type(age))"
      ],
      "metadata": {
        "colab": {
          "base_uri": "https://localhost:8080/"
        },
        "id": "hDy6FpE_jq9i",
        "outputId": "55c4ca47-e19c-452f-912b-b8331f41dde8"
      },
      "execution_count": null,
      "outputs": [
        {
          "output_type": "stream",
          "name": "stdout",
          "text": [
            "<class 'str'>\n",
            "<class 'int'>\n"
          ]
        }
      ]
    },
    {
      "cell_type": "code",
      "source": [
        "a = int(input(\"enter first number: \"))\n",
        "b = int(input(\"enter second number: \"))\n",
        "#input() is an inbuilt function which is used to take input from user.\n",
        "sum = a + b\n",
        " \n",
        "print(\"sum:\", sum)"
      ],
      "metadata": {
        "colab": {
          "base_uri": "https://localhost:8080/"
        },
        "id": "SxsVs2W7jrCP",
        "outputId": "84d3850f-15e7-48b6-f362-6f2bc332cb82"
      },
      "execution_count": null,
      "outputs": [
        {
          "output_type": "stream",
          "name": "stdout",
          "text": [
            "enter first number: 12\n",
            "enter second number: 12\n",
            "sum: 24\n"
          ]
        }
      ]
    },
    {
      "cell_type": "markdown",
      "source": [
        "# Calculate Grade of Student based on Marks obtained in 5 Subjects based on Marks obtained in n number of Subjects\n",
        "91-100 =\tA1\n",
        "81-90\t =  A2\n",
        "71-80\t =  B1\n",
        "61-70\t =  B2\n",
        "51-60\t =  C1\n",
        "41-50\t =  C2\n",
        "33-40\t =  D\n",
        "21-32\t =  E1\n",
        "0-20\t =  E2"
      ],
      "metadata": {
        "id": "hwRzk4jnkVkH"
      }
    },
    {
      "cell_type": "code",
      "source": [
        "print(\"Enter Marks Obtained in 5 Subjects: \")\n",
        "markOne = int(input())\n",
        "markTwo = int(input())\n",
        "markThree = int(input())\n",
        "markFour = int(input())\n",
        "markFive = int(input())\n",
        "#If mark contains decimal values like 98.6, 86.9 etc., \n",
        "#Then replace int with float. That is, to handle with floating-point (value containing decimal) values\n",
        "total = markOne+markTwo+markThree+markFour+markFive\n",
        "avg = total/5\n",
        "\n",
        "if avg>=91 and avg<=100:\n",
        "    print(\"Your Grade is A1\")\n",
        "elif avg>=81 and avg<91:\n",
        "    print(\"Your Grade is A2\")\n",
        "elif avg>=71 and avg<81:\n",
        "    print(\"Your Grade is B1\")\n",
        "elif avg>=61 and avg<71:\n",
        "    print(\"Your Grade is B2\")\n",
        "elif avg>=51 and avg<61:\n",
        "    print(\"Your Grade is C1\")\n",
        "elif avg>=41 and avg<51:\n",
        "    print(\"Your Grade is C2\")\n",
        "elif avg>=33 and avg<41:\n",
        "    print(\"Your Grade is D\")\n",
        "elif avg>=21 and avg<33:\n",
        "    print(\"Your Grade is E1\")\n",
        "elif avg>=0 and avg<21:\n",
        "    print(\"Your Grade is E2\")\n",
        "else:\n",
        "    print(\"Invalid Input!\")"
      ],
      "metadata": {
        "colab": {
          "base_uri": "https://localhost:8080/"
        },
        "id": "VLGKk-MLkSEq",
        "outputId": "32d3dc60-6a98-4ce2-f873-26f5785df4d0"
      },
      "execution_count": null,
      "outputs": [
        {
          "output_type": "stream",
          "name": "stdout",
          "text": [
            "Enter Marks Obtained in 5 Subjects: \n",
            "89\n",
            "99\n",
            "98\n",
            "92\n",
            "77\n",
            "Your Grade is A1\n"
          ]
        }
      ]
    }
  ]
}